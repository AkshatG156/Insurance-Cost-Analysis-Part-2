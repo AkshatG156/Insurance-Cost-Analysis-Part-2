{
 "cells": [
  {
   "cell_type": "markdown",
   "id": "3fce1faa",
   "metadata": {},
   "source": [
    "# Insurance Cost Analysis"
   ]
  },
  {
   "cell_type": "markdown",
   "id": "38892e63",
   "metadata": {},
   "source": [
    "### Objective: To perform data analytics on a medical insurance charges dataset"
   ]
  },
  {
   "cell_type": "markdown",
   "id": "36b00825",
   "metadata": {},
   "source": [
    "### This is in continuation to the Part-1 analysis"
   ]
  },
  {
   "cell_type": "markdown",
   "id": "09d8b72c",
   "metadata": {},
   "source": [
    "### The parameters used in the dataset are:\n",
    "\n",
    "#### Age: Age of the insured. Integer quantity.\n",
    "\n",
    "#### Gender: Gender of the insured. This parameter has been mapped to numerical values in the following way.\n",
    "#### Gender\tAssigned Value: Female 1, Male 2\n",
    "\n",
    "#### BMI: Body Mass Index of the insured. Float value quantity.\n",
    "\n",
    "#### No_of_Children: Number of children the insured person has. Integer quantity.\n",
    "\n",
    "#### Smoker: Whether the insured person is a smoker or not. This parameter has been mapped to numerical values in the following way.\n",
    "#### Smoker\tAssigned Value: Non Smoker\t0, Smoker\t1\n",
    "\n",
    "#### Region: Which region of the USA does the insured belong to. This parameter has been mapped to numerical values in the following way.\n",
    "#### Region\tAssigned Value: Northwest\t1, Northeast\t2, Southwest\t3, Southeast\t4\n",
    "\n",
    "#### Charges: Charges for the insurance in USD. Floating value quantity."
   ]
  },
  {
   "cell_type": "markdown",
   "id": "43880763",
   "metadata": {},
   "source": [
    "# Key Analysis Conducted - \n",
    "\n",
    "### 1. What is the distribution of BMI, and medical charges?\n",
    "### 2. Average medical insurance charge for different age groups\n",
    "### 3. How do insurance charges differ by gender?\n",
    "### 4. How does the number of children affect medical charges?\n",
    "### 5. How do medical charges vary across different regions?\n",
    "### 6. Do certain demographics have significantly different average charges?\n",
    "####     -- Different age groups of Smokers vs Non-Smokers\n",
    "####     -- Male Smokers vs. Female Smokers\n",
    "####     -- BMI dependent Charges by Smoker Status"
   ]
  },
  {
   "cell_type": "code",
   "execution_count": 85,
   "id": "965c63b6",
   "metadata": {},
   "outputs": [],
   "source": [
    "import pandas as pd\n",
    "import matplotlib.pyplot as plt\n",
    "import numpy as np\n",
    "import seaborn as sns"
   ]
  },
  {
   "cell_type": "code",
   "execution_count": 86,
   "id": "3fa1f652",
   "metadata": {},
   "outputs": [],
   "source": [
    "headers = ['Age','Gender','BMI','No_of_Children','Smoker','Region','Charges']"
   ]
  },
  {
   "cell_type": "code",
   "execution_count": 87,
   "id": "6daf0356",
   "metadata": {},
   "outputs": [
    {
     "data": {
      "text/html": [
       "<div>\n",
       "<style scoped>\n",
       "    .dataframe tbody tr th:only-of-type {\n",
       "        vertical-align: middle;\n",
       "    }\n",
       "\n",
       "    .dataframe tbody tr th {\n",
       "        vertical-align: top;\n",
       "    }\n",
       "\n",
       "    .dataframe thead th {\n",
       "        text-align: right;\n",
       "    }\n",
       "</style>\n",
       "<table border=\"1\" class=\"dataframe\">\n",
       "  <thead>\n",
       "    <tr style=\"text-align: right;\">\n",
       "      <th></th>\n",
       "      <th>Age</th>\n",
       "      <th>Gender</th>\n",
       "      <th>BMI</th>\n",
       "      <th>No_of_Children</th>\n",
       "      <th>Smoker</th>\n",
       "      <th>Region</th>\n",
       "      <th>Charges</th>\n",
       "    </tr>\n",
       "  </thead>\n",
       "  <tbody>\n",
       "    <tr>\n",
       "      <th>0</th>\n",
       "      <td>18</td>\n",
       "      <td>2</td>\n",
       "      <td>33.770</td>\n",
       "      <td>1</td>\n",
       "      <td>0</td>\n",
       "      <td>4</td>\n",
       "      <td>1725.55</td>\n",
       "    </tr>\n",
       "    <tr>\n",
       "      <th>1</th>\n",
       "      <td>28</td>\n",
       "      <td>2</td>\n",
       "      <td>33.000</td>\n",
       "      <td>3</td>\n",
       "      <td>0</td>\n",
       "      <td>4</td>\n",
       "      <td>4449.46</td>\n",
       "    </tr>\n",
       "    <tr>\n",
       "      <th>2</th>\n",
       "      <td>33</td>\n",
       "      <td>2</td>\n",
       "      <td>22.705</td>\n",
       "      <td>0</td>\n",
       "      <td>0</td>\n",
       "      <td>1</td>\n",
       "      <td>21984.47</td>\n",
       "    </tr>\n",
       "    <tr>\n",
       "      <th>3</th>\n",
       "      <td>32</td>\n",
       "      <td>2</td>\n",
       "      <td>28.880</td>\n",
       "      <td>0</td>\n",
       "      <td>0</td>\n",
       "      <td>1</td>\n",
       "      <td>3866.86</td>\n",
       "    </tr>\n",
       "    <tr>\n",
       "      <th>4</th>\n",
       "      <td>31</td>\n",
       "      <td>1</td>\n",
       "      <td>25.740</td>\n",
       "      <td>0</td>\n",
       "      <td>?</td>\n",
       "      <td>4</td>\n",
       "      <td>3756.62</td>\n",
       "    </tr>\n",
       "    <tr>\n",
       "      <th>5</th>\n",
       "      <td>46</td>\n",
       "      <td>1</td>\n",
       "      <td>33.440</td>\n",
       "      <td>1</td>\n",
       "      <td>0</td>\n",
       "      <td>4</td>\n",
       "      <td>8240.59</td>\n",
       "    </tr>\n",
       "    <tr>\n",
       "      <th>6</th>\n",
       "      <td>37</td>\n",
       "      <td>1</td>\n",
       "      <td>27.740</td>\n",
       "      <td>3</td>\n",
       "      <td>0</td>\n",
       "      <td>1</td>\n",
       "      <td>7281.51</td>\n",
       "    </tr>\n",
       "    <tr>\n",
       "      <th>7</th>\n",
       "      <td>37</td>\n",
       "      <td>2</td>\n",
       "      <td>29.830</td>\n",
       "      <td>2</td>\n",
       "      <td>0</td>\n",
       "      <td>2</td>\n",
       "      <td>6406.41</td>\n",
       "    </tr>\n",
       "    <tr>\n",
       "      <th>8</th>\n",
       "      <td>60</td>\n",
       "      <td>1</td>\n",
       "      <td>25.840</td>\n",
       "      <td>0</td>\n",
       "      <td>0</td>\n",
       "      <td>1</td>\n",
       "      <td>28923.14</td>\n",
       "    </tr>\n",
       "    <tr>\n",
       "      <th>9</th>\n",
       "      <td>25</td>\n",
       "      <td>2</td>\n",
       "      <td>26.220</td>\n",
       "      <td>0</td>\n",
       "      <td>0</td>\n",
       "      <td>2</td>\n",
       "      <td>2721.32</td>\n",
       "    </tr>\n",
       "  </tbody>\n",
       "</table>\n",
       "</div>"
      ],
      "text/plain": [
       "  Age  Gender     BMI  No_of_Children Smoker  Region   Charges\n",
       "0  18       2  33.770               1      0       4   1725.55\n",
       "1  28       2  33.000               3      0       4   4449.46\n",
       "2  33       2  22.705               0      0       1  21984.47\n",
       "3  32       2  28.880               0      0       1   3866.86\n",
       "4  31       1  25.740               0      ?       4   3756.62\n",
       "5  46       1  33.440               1      0       4   8240.59\n",
       "6  37       1  27.740               3      0       1   7281.51\n",
       "7  37       2  29.830               2      0       2   6406.41\n",
       "8  60       1  25.840               0      0       1  28923.14\n",
       "9  25       2  26.220               0      0       2   2721.32"
      ]
     },
     "execution_count": 87,
     "metadata": {},
     "output_type": "execute_result"
    }
   ],
   "source": [
    "df = pd.read_csv(r\"C:\\Users\\mrakk\\OneDrive - srsny.org\\Desktop\\Datasets\\medical_insurance_dataset.csv\",names=headers,header=0)\n",
    "df['Charges'] = round(df['Charges'],2)\n",
    "df.head(10)"
   ]
  },
  {
   "cell_type": "markdown",
   "id": "410fcbfa",
   "metadata": {},
   "source": [
    "# Clean the data, taking care of the blank entries"
   ]
  },
  {
   "cell_type": "code",
   "execution_count": 88,
   "id": "ef59ee14",
   "metadata": {},
   "outputs": [
    {
     "data": {
      "text/plain": [
       "Age               4\n",
       "Gender            0\n",
       "BMI               0\n",
       "No_of_Children    0\n",
       "Smoker            7\n",
       "Region            0\n",
       "Charges           0\n",
       "dtype: int64"
      ]
     },
     "execution_count": 88,
     "metadata": {},
     "output_type": "execute_result"
    }
   ],
   "source": [
    "df[df[headers]=='?'].count()"
   ]
  },
  {
   "cell_type": "code",
   "execution_count": 89,
   "id": "4b4ccfee",
   "metadata": {},
   "outputs": [],
   "source": [
    "df = df.replace('?',np.NaN)"
   ]
  },
  {
   "cell_type": "code",
   "execution_count": 90,
   "id": "bc21fc01",
   "metadata": {},
   "outputs": [
    {
     "data": {
      "text/html": [
       "<div>\n",
       "<style scoped>\n",
       "    .dataframe tbody tr th:only-of-type {\n",
       "        vertical-align: middle;\n",
       "    }\n",
       "\n",
       "    .dataframe tbody tr th {\n",
       "        vertical-align: top;\n",
       "    }\n",
       "\n",
       "    .dataframe thead th {\n",
       "        text-align: right;\n",
       "    }\n",
       "</style>\n",
       "<table border=\"1\" class=\"dataframe\">\n",
       "  <thead>\n",
       "    <tr style=\"text-align: right;\">\n",
       "      <th></th>\n",
       "      <th>Age</th>\n",
       "      <th>Gender</th>\n",
       "      <th>BMI</th>\n",
       "      <th>No_of_Children</th>\n",
       "      <th>Smoker</th>\n",
       "      <th>Region</th>\n",
       "      <th>Charges</th>\n",
       "    </tr>\n",
       "  </thead>\n",
       "  <tbody>\n",
       "    <tr>\n",
       "      <th>0</th>\n",
       "      <td>18</td>\n",
       "      <td>2</td>\n",
       "      <td>33.770</td>\n",
       "      <td>1</td>\n",
       "      <td>0</td>\n",
       "      <td>4</td>\n",
       "      <td>1725.55</td>\n",
       "    </tr>\n",
       "    <tr>\n",
       "      <th>1</th>\n",
       "      <td>28</td>\n",
       "      <td>2</td>\n",
       "      <td>33.000</td>\n",
       "      <td>3</td>\n",
       "      <td>0</td>\n",
       "      <td>4</td>\n",
       "      <td>4449.46</td>\n",
       "    </tr>\n",
       "    <tr>\n",
       "      <th>2</th>\n",
       "      <td>33</td>\n",
       "      <td>2</td>\n",
       "      <td>22.705</td>\n",
       "      <td>0</td>\n",
       "      <td>0</td>\n",
       "      <td>1</td>\n",
       "      <td>21984.47</td>\n",
       "    </tr>\n",
       "    <tr>\n",
       "      <th>3</th>\n",
       "      <td>32</td>\n",
       "      <td>2</td>\n",
       "      <td>28.880</td>\n",
       "      <td>0</td>\n",
       "      <td>0</td>\n",
       "      <td>1</td>\n",
       "      <td>3866.86</td>\n",
       "    </tr>\n",
       "    <tr>\n",
       "      <th>4</th>\n",
       "      <td>31</td>\n",
       "      <td>1</td>\n",
       "      <td>25.740</td>\n",
       "      <td>0</td>\n",
       "      <td>NaN</td>\n",
       "      <td>4</td>\n",
       "      <td>3756.62</td>\n",
       "    </tr>\n",
       "    <tr>\n",
       "      <th>5</th>\n",
       "      <td>46</td>\n",
       "      <td>1</td>\n",
       "      <td>33.440</td>\n",
       "      <td>1</td>\n",
       "      <td>0</td>\n",
       "      <td>4</td>\n",
       "      <td>8240.59</td>\n",
       "    </tr>\n",
       "    <tr>\n",
       "      <th>6</th>\n",
       "      <td>37</td>\n",
       "      <td>1</td>\n",
       "      <td>27.740</td>\n",
       "      <td>3</td>\n",
       "      <td>0</td>\n",
       "      <td>1</td>\n",
       "      <td>7281.51</td>\n",
       "    </tr>\n",
       "    <tr>\n",
       "      <th>7</th>\n",
       "      <td>37</td>\n",
       "      <td>2</td>\n",
       "      <td>29.830</td>\n",
       "      <td>2</td>\n",
       "      <td>0</td>\n",
       "      <td>2</td>\n",
       "      <td>6406.41</td>\n",
       "    </tr>\n",
       "    <tr>\n",
       "      <th>8</th>\n",
       "      <td>60</td>\n",
       "      <td>1</td>\n",
       "      <td>25.840</td>\n",
       "      <td>0</td>\n",
       "      <td>0</td>\n",
       "      <td>1</td>\n",
       "      <td>28923.14</td>\n",
       "    </tr>\n",
       "    <tr>\n",
       "      <th>9</th>\n",
       "      <td>25</td>\n",
       "      <td>2</td>\n",
       "      <td>26.220</td>\n",
       "      <td>0</td>\n",
       "      <td>0</td>\n",
       "      <td>2</td>\n",
       "      <td>2721.32</td>\n",
       "    </tr>\n",
       "  </tbody>\n",
       "</table>\n",
       "</div>"
      ],
      "text/plain": [
       "  Age  Gender     BMI  No_of_Children Smoker  Region   Charges\n",
       "0  18       2  33.770               1      0       4   1725.55\n",
       "1  28       2  33.000               3      0       4   4449.46\n",
       "2  33       2  22.705               0      0       1  21984.47\n",
       "3  32       2  28.880               0      0       1   3866.86\n",
       "4  31       1  25.740               0    NaN       4   3756.62\n",
       "5  46       1  33.440               1      0       4   8240.59\n",
       "6  37       1  27.740               3      0       1   7281.51\n",
       "7  37       2  29.830               2      0       2   6406.41\n",
       "8  60       1  25.840               0      0       1  28923.14\n",
       "9  25       2  26.220               0      0       2   2721.32"
      ]
     },
     "execution_count": 90,
     "metadata": {},
     "output_type": "execute_result"
    }
   ],
   "source": [
    "df.head(10)"
   ]
  },
  {
   "cell_type": "code",
   "execution_count": 91,
   "id": "a895e417",
   "metadata": {},
   "outputs": [
    {
     "name": "stdout",
     "output_type": "stream",
     "text": [
      "<class 'pandas.core.frame.DataFrame'>\n",
      "RangeIndex: 2771 entries, 0 to 2770\n",
      "Data columns (total 7 columns):\n",
      " #   Column          Non-Null Count  Dtype  \n",
      "---  ------          --------------  -----  \n",
      " 0   Age             2767 non-null   object \n",
      " 1   Gender          2771 non-null   int64  \n",
      " 2   BMI             2771 non-null   float64\n",
      " 3   No_of_Children  2771 non-null   int64  \n",
      " 4   Smoker          2764 non-null   object \n",
      " 5   Region          2771 non-null   int64  \n",
      " 6   Charges         2771 non-null   float64\n",
      "dtypes: float64(2), int64(3), object(2)\n",
      "memory usage: 151.7+ KB\n"
     ]
    }
   ],
   "source": [
    "df.info()"
   ]
  },
  {
   "cell_type": "markdown",
   "id": "1e8821fd",
   "metadata": {},
   "source": [
    "## Replace Missing Age Values with the Mean and Smoker Values with the Most Frequent One"
   ]
  },
  {
   "cell_type": "code",
   "execution_count": 92,
   "id": "8e6163a9",
   "metadata": {},
   "outputs": [
    {
     "data": {
      "text/plain": [
       "39.11709432598482"
      ]
     },
     "execution_count": 92,
     "metadata": {},
     "output_type": "execute_result"
    }
   ],
   "source": [
    "mean_age = df['Age'].astype('float').mean(axis=0)\n",
    "mean_age"
   ]
  },
  {
   "cell_type": "code",
   "execution_count": 93,
   "id": "d0e43710",
   "metadata": {},
   "outputs": [
    {
     "name": "stdout",
     "output_type": "stream",
     "text": [
      "<class 'pandas.core.frame.DataFrame'>\n",
      "RangeIndex: 2771 entries, 0 to 2770\n",
      "Data columns (total 7 columns):\n",
      " #   Column          Non-Null Count  Dtype  \n",
      "---  ------          --------------  -----  \n",
      " 0   Age             2771 non-null   object \n",
      " 1   Gender          2771 non-null   int64  \n",
      " 2   BMI             2771 non-null   float64\n",
      " 3   No_of_Children  2771 non-null   int64  \n",
      " 4   Smoker          2764 non-null   object \n",
      " 5   Region          2771 non-null   int64  \n",
      " 6   Charges         2771 non-null   float64\n",
      "dtypes: float64(2), int64(3), object(2)\n",
      "memory usage: 151.7+ KB\n"
     ]
    }
   ],
   "source": [
    "df['Age'].replace(np.NaN,mean_age,inplace=True)\n",
    "df.info()"
   ]
  },
  {
   "cell_type": "code",
   "execution_count": 94,
   "id": "e3765e69",
   "metadata": {},
   "outputs": [
    {
     "data": {
      "text/plain": [
       "'0'"
      ]
     },
     "execution_count": 94,
     "metadata": {},
     "output_type": "execute_result"
    }
   ],
   "source": [
    "max_smoker = df['Smoker'].value_counts().idxmax()\n",
    "max_smoker"
   ]
  },
  {
   "cell_type": "code",
   "execution_count": 95,
   "id": "e35b5c5a",
   "metadata": {},
   "outputs": [
    {
     "name": "stdout",
     "output_type": "stream",
     "text": [
      "<class 'pandas.core.frame.DataFrame'>\n",
      "RangeIndex: 2771 entries, 0 to 2770\n",
      "Data columns (total 7 columns):\n",
      " #   Column          Non-Null Count  Dtype  \n",
      "---  ------          --------------  -----  \n",
      " 0   Age             2771 non-null   object \n",
      " 1   Gender          2771 non-null   int64  \n",
      " 2   BMI             2771 non-null   float64\n",
      " 3   No_of_Children  2771 non-null   int64  \n",
      " 4   Smoker          2771 non-null   object \n",
      " 5   Region          2771 non-null   int64  \n",
      " 6   Charges         2771 non-null   float64\n",
      "dtypes: float64(2), int64(3), object(2)\n",
      "memory usage: 151.7+ KB\n"
     ]
    }
   ],
   "source": [
    "df['Smoker'].replace(np.NaN,max_smoker,inplace=True)\n",
    "df.info()"
   ]
  },
  {
   "cell_type": "code",
   "execution_count": 96,
   "id": "9937756a",
   "metadata": {},
   "outputs": [
    {
     "name": "stdout",
     "output_type": "stream",
     "text": [
      "<class 'pandas.core.frame.DataFrame'>\n",
      "RangeIndex: 2771 entries, 0 to 2770\n",
      "Data columns (total 7 columns):\n",
      " #   Column          Non-Null Count  Dtype  \n",
      "---  ------          --------------  -----  \n",
      " 0   Age             2771 non-null   int32  \n",
      " 1   Gender          2771 non-null   int64  \n",
      " 2   BMI             2771 non-null   float64\n",
      " 3   No_of_Children  2771 non-null   int64  \n",
      " 4   Smoker          2771 non-null   int32  \n",
      " 5   Region          2771 non-null   int64  \n",
      " 6   Charges         2771 non-null   float64\n",
      "dtypes: float64(2), int32(2), int64(3)\n",
      "memory usage: 130.0 KB\n"
     ]
    }
   ],
   "source": [
    "df[['Age','Smoker']] = df[['Age','Smoker']].astype('int')\n",
    "df.info()"
   ]
  },
  {
   "cell_type": "markdown",
   "id": "2489bd6e",
   "metadata": {},
   "source": [
    "# 1. What is the distribution of BMI, and medical charges?"
   ]
  },
  {
   "cell_type": "code",
   "execution_count": 97,
   "id": "6a97e051",
   "metadata": {},
   "outputs": [
    {
     "data": {
      "text/html": [
       "<div>\n",
       "<style scoped>\n",
       "    .dataframe tbody tr th:only-of-type {\n",
       "        vertical-align: middle;\n",
       "    }\n",
       "\n",
       "    .dataframe tbody tr th {\n",
       "        vertical-align: top;\n",
       "    }\n",
       "\n",
       "    .dataframe thead th {\n",
       "        text-align: right;\n",
       "    }\n",
       "</style>\n",
       "<table border=\"1\" class=\"dataframe\">\n",
       "  <thead>\n",
       "    <tr style=\"text-align: right;\">\n",
       "      <th></th>\n",
       "      <th>BMI</th>\n",
       "      <th>count</th>\n",
       "    </tr>\n",
       "  </thead>\n",
       "  <tbody>\n",
       "    <tr>\n",
       "      <th>0</th>\n",
       "      <td>32.30</td>\n",
       "      <td>26</td>\n",
       "    </tr>\n",
       "    <tr>\n",
       "      <th>1</th>\n",
       "      <td>28.31</td>\n",
       "      <td>18</td>\n",
       "    </tr>\n",
       "    <tr>\n",
       "      <th>2</th>\n",
       "      <td>31.35</td>\n",
       "      <td>16</td>\n",
       "    </tr>\n",
       "    <tr>\n",
       "      <th>3</th>\n",
       "      <td>25.80</td>\n",
       "      <td>16</td>\n",
       "    </tr>\n",
       "    <tr>\n",
       "      <th>4</th>\n",
       "      <td>28.88</td>\n",
       "      <td>16</td>\n",
       "    </tr>\n",
       "    <tr>\n",
       "      <th>...</th>\n",
       "      <td>...</td>\n",
       "      <td>...</td>\n",
       "    </tr>\n",
       "    <tr>\n",
       "      <th>543</th>\n",
       "      <td>39.33</td>\n",
       "      <td>2</td>\n",
       "    </tr>\n",
       "    <tr>\n",
       "      <th>544</th>\n",
       "      <td>18.05</td>\n",
       "      <td>2</td>\n",
       "    </tr>\n",
       "    <tr>\n",
       "      <th>545</th>\n",
       "      <td>26.20</td>\n",
       "      <td>2</td>\n",
       "    </tr>\n",
       "    <tr>\n",
       "      <th>546</th>\n",
       "      <td>39.27</td>\n",
       "      <td>2</td>\n",
       "    </tr>\n",
       "    <tr>\n",
       "      <th>547</th>\n",
       "      <td>27.90</td>\n",
       "      <td>1</td>\n",
       "    </tr>\n",
       "  </tbody>\n",
       "</table>\n",
       "<p>548 rows × 2 columns</p>\n",
       "</div>"
      ],
      "text/plain": [
       "       BMI  count\n",
       "0    32.30     26\n",
       "1    28.31     18\n",
       "2    31.35     16\n",
       "3    25.80     16\n",
       "4    28.88     16\n",
       "..     ...    ...\n",
       "543  39.33      2\n",
       "544  18.05      2\n",
       "545  26.20      2\n",
       "546  39.27      2\n",
       "547  27.90      1\n",
       "\n",
       "[548 rows x 2 columns]"
      ]
     },
     "execution_count": 97,
     "metadata": {},
     "output_type": "execute_result"
    }
   ],
   "source": [
    "a = df['BMI'].value_counts()\n",
    "b = pd.DataFrame(a)\n",
    "b.reset_index()"
   ]
  },
  {
   "cell_type": "code",
   "execution_count": 98,
   "id": "3d20adf6",
   "metadata": {},
   "outputs": [
    {
     "name": "stderr",
     "output_type": "stream",
     "text": [
      "C:\\Users\\mrakk\\anaconda3\\Lib\\site-packages\\seaborn\\axisgrid.py:118: UserWarning: The figure layout has changed to tight\n",
      "  self._figure.tight_layout(*args, **kwargs)\n"
     ]
    },
    {
     "data": {
      "text/plain": [
       "<seaborn.axisgrid.FacetGrid at 0x2a67ebd3010>"
      ]
     },
     "execution_count": 98,
     "metadata": {},
     "output_type": "execute_result"
    },
    {
     "data": {
      "image/png": "[encoded data removed]",
      "text/plain": [
       "<Figure size 500x500 with 1 Axes>"
      ]
     },
     "metadata": {},
     "output_type": "display_data"
    }
   ],
   "source": [
    "sns.displot(df['BMI'],kde=True)"
   ]
  },
  {
   "cell_type": "markdown",
   "id": "96375926",
   "metadata": {},
   "source": [
    "### Most people have BMI in the range of 25 - 35"
   ]
  },
  {
   "cell_type": "code",
   "execution_count": 99,
   "id": "e7020061",
   "metadata": {
    "scrolled": false
   },
   "outputs": [
    {
     "data": {
      "text/html": [
       "<div>\n",
       "<style scoped>\n",
       "    .dataframe tbody tr th:only-of-type {\n",
       "        vertical-align: middle;\n",
       "    }\n",
       "\n",
       "    .dataframe tbody tr th {\n",
       "        vertical-align: top;\n",
       "    }\n",
       "\n",
       "    .dataframe thead th {\n",
       "        text-align: right;\n",
       "    }\n",
       "</style>\n",
       "<table border=\"1\" class=\"dataframe\">\n",
       "  <thead>\n",
       "    <tr style=\"text-align: right;\">\n",
       "      <th></th>\n",
       "      <th>Charges</th>\n",
       "      <th>count</th>\n",
       "    </tr>\n",
       "  </thead>\n",
       "  <tbody>\n",
       "    <tr>\n",
       "      <th>29</th>\n",
       "      <td>1121.87</td>\n",
       "      <td>4</td>\n",
       "    </tr>\n",
       "    <tr>\n",
       "      <th>282</th>\n",
       "      <td>1131.51</td>\n",
       "      <td>2</td>\n",
       "    </tr>\n",
       "    <tr>\n",
       "      <th>47</th>\n",
       "      <td>1135.94</td>\n",
       "      <td>4</td>\n",
       "    </tr>\n",
       "    <tr>\n",
       "      <th>1121</th>\n",
       "      <td>1136.40</td>\n",
       "      <td>2</td>\n",
       "    </tr>\n",
       "    <tr>\n",
       "      <th>889</th>\n",
       "      <td>1137.01</td>\n",
       "      <td>2</td>\n",
       "    </tr>\n",
       "    <tr>\n",
       "      <th>...</th>\n",
       "      <td>...</td>\n",
       "      <td>...</td>\n",
       "    </tr>\n",
       "    <tr>\n",
       "      <th>272</th>\n",
       "      <td>55135.40</td>\n",
       "      <td>2</td>\n",
       "    </tr>\n",
       "    <tr>\n",
       "      <th>1040</th>\n",
       "      <td>58571.07</td>\n",
       "      <td>2</td>\n",
       "    </tr>\n",
       "    <tr>\n",
       "      <th>390</th>\n",
       "      <td>60021.40</td>\n",
       "      <td>2</td>\n",
       "    </tr>\n",
       "    <tr>\n",
       "      <th>454</th>\n",
       "      <td>62592.87</td>\n",
       "      <td>2</td>\n",
       "    </tr>\n",
       "    <tr>\n",
       "      <th>1074</th>\n",
       "      <td>63770.43</td>\n",
       "      <td>2</td>\n",
       "    </tr>\n",
       "  </tbody>\n",
       "</table>\n",
       "<p>1337 rows × 2 columns</p>\n",
       "</div>"
      ],
      "text/plain": [
       "       Charges  count\n",
       "29     1121.87      4\n",
       "282    1131.51      2\n",
       "47     1135.94      4\n",
       "1121   1136.40      2\n",
       "889    1137.01      2\n",
       "...        ...    ...\n",
       "272   55135.40      2\n",
       "1040  58571.07      2\n",
       "390   60021.40      2\n",
       "454   62592.87      2\n",
       "1074  63770.43      2\n",
       "\n",
       "[1337 rows x 2 columns]"
      ]
     },
     "execution_count": 99,
     "metadata": {},
     "output_type": "execute_result"
    }
   ],
   "source": [
    "c = df['Charges'].value_counts()\n",
    "d = pd.DataFrame(c)\n",
    "d.reset_index().sort_values(by='Charges',ascending=True)"
   ]
  },
  {
   "cell_type": "code",
   "execution_count": 100,
   "id": "2dc2a728",
   "metadata": {},
   "outputs": [
    {
     "name": "stderr",
     "output_type": "stream",
     "text": [
      "C:\\Users\\mrakk\\anaconda3\\Lib\\site-packages\\seaborn\\axisgrid.py:118: UserWarning: The figure layout has changed to tight\n",
      "  self._figure.tight_layout(*args, **kwargs)\n"
     ]
    },
    {
     "data": {
      "text/plain": [
       "<seaborn.axisgrid.FacetGrid at 0x2a67ec81550>"
      ]
     },
     "execution_count": 100,
     "metadata": {},
     "output_type": "execute_result"
    },
    {
     "data": {
      "image/png": "[encoded data removed]",
      "text/plain": [
       "<Figure size 500x500 with 1 Axes>"
      ]
     },
     "metadata": {},
     "output_type": "display_data"
    }
   ],
   "source": [
    "sns.displot(df['Charges'],kde=True)"
   ]
  },
  {
   "cell_type": "markdown",
   "id": "5c81ff6f",
   "metadata": {},
   "source": [
    "### Most people fall in the range of USD 1,100 - USD 12,000"
   ]
  },
  {
   "cell_type": "markdown",
   "id": "1b979088",
   "metadata": {},
   "source": [
    "# 2. Average medical insurance charge for different age groups"
   ]
  },
  {
   "cell_type": "code",
   "execution_count": 171,
   "id": "a6d6e5f9",
   "metadata": {},
   "outputs": [
    {
     "data": {
      "text/plain": [
       "Age_Groups\n",
       "15-25    643\n",
       "56-65    462\n",
       "26-35    452\n",
       "36-45    418\n",
       "46-55    406\n",
       "66-75    390\n",
       "Name: count, dtype: int64"
      ]
     },
     "execution_count": 171,
     "metadata": {},
     "output_type": "execute_result"
    }
   ],
   "source": [
    "df['Age_Groups'].value_counts()"
   ]
  },
  {
   "cell_type": "code",
   "execution_count": 102,
   "id": "a78b60aa",
   "metadata": {},
   "outputs": [],
   "source": [
    "labels = ['15-25','26-35','36-45','46-55','56-65','66-75']\n",
    "bins = np.linspace(min(df['Age']),max(df['Age']),7)"
   ]
  },
  {
   "cell_type": "code",
   "execution_count": 103,
   "id": "4b005fb3",
   "metadata": {},
   "outputs": [],
   "source": [
    "df['Age_Groups'] = pd.cut(df['Age'], bins=bins, labels=labels, include_lowest=True)"
   ]
  },
  {
   "cell_type": "code",
   "execution_count": 104,
   "id": "fffa273e",
   "metadata": {},
   "outputs": [
    {
     "data": {
      "text/html": [
       "<div>\n",
       "<style scoped>\n",
       "    .dataframe tbody tr th:only-of-type {\n",
       "        vertical-align: middle;\n",
       "    }\n",
       "\n",
       "    .dataframe tbody tr th {\n",
       "        vertical-align: top;\n",
       "    }\n",
       "\n",
       "    .dataframe thead th {\n",
       "        text-align: right;\n",
       "    }\n",
       "</style>\n",
       "<table border=\"1\" class=\"dataframe\">\n",
       "  <thead>\n",
       "    <tr style=\"text-align: right;\">\n",
       "      <th></th>\n",
       "      <th>Age</th>\n",
       "      <th>Gender</th>\n",
       "      <th>BMI</th>\n",
       "      <th>No_of_Children</th>\n",
       "      <th>Smoker</th>\n",
       "      <th>Region</th>\n",
       "      <th>Charges</th>\n",
       "      <th>Age_Groups</th>\n",
       "    </tr>\n",
       "  </thead>\n",
       "  <tbody>\n",
       "    <tr>\n",
       "      <th>0</th>\n",
       "      <td>18</td>\n",
       "      <td>2</td>\n",
       "      <td>33.770</td>\n",
       "      <td>1</td>\n",
       "      <td>0</td>\n",
       "      <td>4</td>\n",
       "      <td>1725.55</td>\n",
       "      <td>15-25</td>\n",
       "    </tr>\n",
       "    <tr>\n",
       "      <th>1</th>\n",
       "      <td>28</td>\n",
       "      <td>2</td>\n",
       "      <td>33.000</td>\n",
       "      <td>3</td>\n",
       "      <td>0</td>\n",
       "      <td>4</td>\n",
       "      <td>4449.46</td>\n",
       "      <td>26-35</td>\n",
       "    </tr>\n",
       "    <tr>\n",
       "      <th>2</th>\n",
       "      <td>33</td>\n",
       "      <td>2</td>\n",
       "      <td>22.705</td>\n",
       "      <td>0</td>\n",
       "      <td>0</td>\n",
       "      <td>1</td>\n",
       "      <td>21984.47</td>\n",
       "      <td>26-35</td>\n",
       "    </tr>\n",
       "    <tr>\n",
       "      <th>3</th>\n",
       "      <td>32</td>\n",
       "      <td>2</td>\n",
       "      <td>28.880</td>\n",
       "      <td>0</td>\n",
       "      <td>0</td>\n",
       "      <td>1</td>\n",
       "      <td>3866.86</td>\n",
       "      <td>26-35</td>\n",
       "    </tr>\n",
       "    <tr>\n",
       "      <th>4</th>\n",
       "      <td>31</td>\n",
       "      <td>1</td>\n",
       "      <td>25.740</td>\n",
       "      <td>0</td>\n",
       "      <td>0</td>\n",
       "      <td>4</td>\n",
       "      <td>3756.62</td>\n",
       "      <td>26-35</td>\n",
       "    </tr>\n",
       "    <tr>\n",
       "      <th>...</th>\n",
       "      <td>...</td>\n",
       "      <td>...</td>\n",
       "      <td>...</td>\n",
       "      <td>...</td>\n",
       "      <td>...</td>\n",
       "      <td>...</td>\n",
       "      <td>...</td>\n",
       "      <td>...</td>\n",
       "    </tr>\n",
       "    <tr>\n",
       "      <th>2766</th>\n",
       "      <td>47</td>\n",
       "      <td>1</td>\n",
       "      <td>45.320</td>\n",
       "      <td>1</td>\n",
       "      <td>0</td>\n",
       "      <td>4</td>\n",
       "      <td>8569.86</td>\n",
       "      <td>46-55</td>\n",
       "    </tr>\n",
       "    <tr>\n",
       "      <th>2767</th>\n",
       "      <td>21</td>\n",
       "      <td>1</td>\n",
       "      <td>34.600</td>\n",
       "      <td>0</td>\n",
       "      <td>0</td>\n",
       "      <td>3</td>\n",
       "      <td>2020.18</td>\n",
       "      <td>15-25</td>\n",
       "    </tr>\n",
       "    <tr>\n",
       "      <th>2768</th>\n",
       "      <td>19</td>\n",
       "      <td>2</td>\n",
       "      <td>26.030</td>\n",
       "      <td>1</td>\n",
       "      <td>1</td>\n",
       "      <td>1</td>\n",
       "      <td>16450.89</td>\n",
       "      <td>15-25</td>\n",
       "    </tr>\n",
       "    <tr>\n",
       "      <th>2769</th>\n",
       "      <td>23</td>\n",
       "      <td>2</td>\n",
       "      <td>18.715</td>\n",
       "      <td>0</td>\n",
       "      <td>0</td>\n",
       "      <td>1</td>\n",
       "      <td>21595.38</td>\n",
       "      <td>15-25</td>\n",
       "    </tr>\n",
       "    <tr>\n",
       "      <th>2770</th>\n",
       "      <td>54</td>\n",
       "      <td>2</td>\n",
       "      <td>31.600</td>\n",
       "      <td>0</td>\n",
       "      <td>0</td>\n",
       "      <td>3</td>\n",
       "      <td>9850.43</td>\n",
       "      <td>56-65</td>\n",
       "    </tr>\n",
       "  </tbody>\n",
       "</table>\n",
       "<p>2771 rows × 8 columns</p>\n",
       "</div>"
      ],
      "text/plain": [
       "      Age  Gender     BMI  No_of_Children  Smoker  Region   Charges Age_Groups\n",
       "0      18       2  33.770               1       0       4   1725.55      15-25\n",
       "1      28       2  33.000               3       0       4   4449.46      26-35\n",
       "2      33       2  22.705               0       0       1  21984.47      26-35\n",
       "3      32       2  28.880               0       0       1   3866.86      26-35\n",
       "4      31       1  25.740               0       0       4   3756.62      26-35\n",
       "...   ...     ...     ...             ...     ...     ...       ...        ...\n",
       "2766   47       1  45.320               1       0       4   8569.86      46-55\n",
       "2767   21       1  34.600               0       0       3   2020.18      15-25\n",
       "2768   19       2  26.030               1       1       1  16450.89      15-25\n",
       "2769   23       2  18.715               0       0       1  21595.38      15-25\n",
       "2770   54       2  31.600               0       0       3   9850.43      56-65\n",
       "\n",
       "[2771 rows x 8 columns]"
      ]
     },
     "execution_count": 104,
     "metadata": {},
     "output_type": "execute_result"
    }
   ],
   "source": [
    "df"
   ]
  },
  {
   "cell_type": "code",
   "execution_count": 105,
   "id": "348a54bb",
   "metadata": {},
   "outputs": [
    {
     "data": {
      "text/html": [
       "<div>\n",
       "<style scoped>\n",
       "    .dataframe tbody tr th:only-of-type {\n",
       "        vertical-align: middle;\n",
       "    }\n",
       "\n",
       "    .dataframe tbody tr th {\n",
       "        vertical-align: top;\n",
       "    }\n",
       "\n",
       "    .dataframe thead th {\n",
       "        text-align: right;\n",
       "    }\n",
       "</style>\n",
       "<table border=\"1\" class=\"dataframe\">\n",
       "  <thead>\n",
       "    <tr style=\"text-align: right;\">\n",
       "      <th></th>\n",
       "      <th>Age_Groups</th>\n",
       "      <th>Charges</th>\n",
       "    </tr>\n",
       "  </thead>\n",
       "  <tbody>\n",
       "    <tr>\n",
       "      <th>0</th>\n",
       "      <td>15-25</td>\n",
       "      <td>9014.87</td>\n",
       "    </tr>\n",
       "    <tr>\n",
       "      <th>1</th>\n",
       "      <td>26-35</td>\n",
       "      <td>10480.37</td>\n",
       "    </tr>\n",
       "    <tr>\n",
       "      <th>2</th>\n",
       "      <td>36-45</td>\n",
       "      <td>11694.96</td>\n",
       "    </tr>\n",
       "    <tr>\n",
       "      <th>3</th>\n",
       "      <td>46-55</td>\n",
       "      <td>15728.20</td>\n",
       "    </tr>\n",
       "    <tr>\n",
       "      <th>4</th>\n",
       "      <td>56-65</td>\n",
       "      <td>16013.38</td>\n",
       "    </tr>\n",
       "    <tr>\n",
       "      <th>5</th>\n",
       "      <td>66-75</td>\n",
       "      <td>19327.23</td>\n",
       "    </tr>\n",
       "  </tbody>\n",
       "</table>\n",
       "</div>"
      ],
      "text/plain": [
       "  Age_Groups   Charges\n",
       "0      15-25   9014.87\n",
       "1      26-35  10480.37\n",
       "2      36-45  11694.96\n",
       "3      46-55  15728.20\n",
       "4      56-65  16013.38\n",
       "5      66-75  19327.23"
      ]
     },
     "execution_count": 105,
     "metadata": {},
     "output_type": "execute_result"
    }
   ],
   "source": [
    "df_test1 = df[['Age_Groups','Charges']]\n",
    "avg_insurance_per_age_group = df_test1.groupby(['Age_Groups'],as_index=False).mean()\n",
    "round(avg_insurance_per_age_group,2)"
   ]
  },
  {
   "cell_type": "code",
   "execution_count": 106,
   "id": "2472638f",
   "metadata": {
    "scrolled": false
   },
   "outputs": [
    {
     "data": {
      "text/plain": [
       "Text(0.5, 1.0, 'Avg Charges per Age Group')"
      ]
     },
     "execution_count": 106,
     "metadata": {},
     "output_type": "execute_result"
    },
    {
     "data": {
      "image/png": "[encoded data removed]",
      "text/plain": [
       "<Figure size 640x480 with 1 Axes>"
      ]
     },
     "metadata": {},
     "output_type": "display_data"
    }
   ],
   "source": [
    "sns.barplot(x='Age_Groups',y='Charges',data=avg_insurance_per_age_group, palette='viridis')\n",
    "plt.title('Avg Charges per Age Group')"
   ]
  },
  {
   "cell_type": "markdown",
   "id": "fb543870",
   "metadata": {},
   "source": [
    "### Age Group of 66-75 years pays highest yearly insurance charges (Average - USD 19,327.23) followed by all other groups."
   ]
  },
  {
   "cell_type": "markdown",
   "id": "4482a549",
   "metadata": {},
   "source": [
    "# 3. How do insurance charges differ by gender?"
   ]
  },
  {
   "cell_type": "code",
   "execution_count": 107,
   "id": "143d3027",
   "metadata": {},
   "outputs": [
    {
     "data": {
      "text/html": [
       "<div>\n",
       "<style scoped>\n",
       "    .dataframe tbody tr th:only-of-type {\n",
       "        vertical-align: middle;\n",
       "    }\n",
       "\n",
       "    .dataframe tbody tr th {\n",
       "        vertical-align: top;\n",
       "    }\n",
       "\n",
       "    .dataframe thead th {\n",
       "        text-align: right;\n",
       "    }\n",
       "</style>\n",
       "<table border=\"1\" class=\"dataframe\">\n",
       "  <thead>\n",
       "    <tr style=\"text-align: right;\">\n",
       "      <th></th>\n",
       "      <th>Gender</th>\n",
       "      <th>Charges</th>\n",
       "      <th>Percentage</th>\n",
       "    </tr>\n",
       "  </thead>\n",
       "  <tbody>\n",
       "    <tr>\n",
       "      <th>0</th>\n",
       "      <td>1</td>\n",
       "      <td>12483.61</td>\n",
       "      <td>47.11</td>\n",
       "    </tr>\n",
       "    <tr>\n",
       "      <th>1</th>\n",
       "      <td>2</td>\n",
       "      <td>14013.87</td>\n",
       "      <td>52.89</td>\n",
       "    </tr>\n",
       "  </tbody>\n",
       "</table>\n",
       "</div>"
      ],
      "text/plain": [
       "   Gender   Charges  Percentage\n",
       "0       1  12483.61       47.11\n",
       "1       2  14013.87       52.89"
      ]
     },
     "execution_count": 107,
     "metadata": {},
     "output_type": "execute_result"
    }
   ],
   "source": [
    "df_test2 = df[['Gender','Charges']]\n",
    "avg_insurance_per_gender = df_test2.groupby(['Gender'],as_index=False).mean()\n",
    "avg_insurance_per_gender['Percentage'] = 100*avg_insurance_per_gender['Charges'] / avg_insurance_per_gender['Charges'].sum()\n",
    "\n",
    "round(avg_insurance_per_gender,2)"
   ]
  },
  {
   "cell_type": "code",
   "execution_count": 108,
   "id": "c7b678fe",
   "metadata": {},
   "outputs": [
    {
     "data": {
      "text/plain": [
       "Text(0.5, 1.0, 'Percent Charges per Gender')"
      ]
     },
     "execution_count": 108,
     "metadata": {},
     "output_type": "execute_result"
    },
    {
     "data": {
      "image/png": "[encoded data removed]",
      "text/plain": [
       "<Figure size 640x480 with 1 Axes>"
      ]
     },
     "metadata": {},
     "output_type": "display_data"
    }
   ],
   "source": [
    "avg_insurance_per_gender['Gender'] = ['Female','Male']\n",
    "plt.pie(x=avg_insurance_per_gender['Percentage'],data=avg_insurance_per_gender,labels=avg_insurance_per_gender['Gender'],autopct='%2.2f%%')\n",
    "plt.title('Percent Charges per Gender')"
   ]
  },
  {
   "cell_type": "markdown",
   "id": "6e02b36a",
   "metadata": {},
   "source": [
    "### Males (USD 14,013.87) pay higher insurance charges on an average than females (USD 12,483.61)."
   ]
  },
  {
   "cell_type": "markdown",
   "id": "8689a843",
   "metadata": {},
   "source": [
    "# 4. How does the number of children affect medical charges?"
   ]
  },
  {
   "cell_type": "code",
   "execution_count": 109,
   "id": "5f458c53",
   "metadata": {},
   "outputs": [
    {
     "data": {
      "text/html": [
       "<div>\n",
       "<style scoped>\n",
       "    .dataframe tbody tr th:only-of-type {\n",
       "        vertical-align: middle;\n",
       "    }\n",
       "\n",
       "    .dataframe tbody tr th {\n",
       "        vertical-align: top;\n",
       "    }\n",
       "\n",
       "    .dataframe thead th {\n",
       "        text-align: right;\n",
       "    }\n",
       "</style>\n",
       "<table border=\"1\" class=\"dataframe\">\n",
       "  <thead>\n",
       "    <tr style=\"text-align: right;\">\n",
       "      <th></th>\n",
       "      <th>No_of_Children</th>\n",
       "      <th>Charges</th>\n",
       "    </tr>\n",
       "  </thead>\n",
       "  <tbody>\n",
       "    <tr>\n",
       "      <th>0</th>\n",
       "      <td>0.0</td>\n",
       "      <td>12314.07</td>\n",
       "    </tr>\n",
       "    <tr>\n",
       "      <th>1</th>\n",
       "      <td>1.0</td>\n",
       "      <td>12722.65</td>\n",
       "    </tr>\n",
       "    <tr>\n",
       "      <th>2</th>\n",
       "      <td>2.0</td>\n",
       "      <td>15268.18</td>\n",
       "    </tr>\n",
       "    <tr>\n",
       "      <th>3</th>\n",
       "      <td>3.0</td>\n",
       "      <td>15304.07</td>\n",
       "    </tr>\n",
       "    <tr>\n",
       "      <th>4</th>\n",
       "      <td>4.0</td>\n",
       "      <td>13550.98</td>\n",
       "    </tr>\n",
       "    <tr>\n",
       "      <th>5</th>\n",
       "      <td>5.0</td>\n",
       "      <td>8706.04</td>\n",
       "    </tr>\n",
       "  </tbody>\n",
       "</table>\n",
       "</div>"
      ],
      "text/plain": [
       "   No_of_Children   Charges\n",
       "0             0.0  12314.07\n",
       "1             1.0  12722.65\n",
       "2             2.0  15268.18\n",
       "3             3.0  15304.07\n",
       "4             4.0  13550.98\n",
       "5             5.0   8706.04"
      ]
     },
     "execution_count": 109,
     "metadata": {},
     "output_type": "execute_result"
    }
   ],
   "source": [
    "child_charges = df[['No_of_Children','Charges']]\n",
    "child_charges_group = child_charges.groupby(df['No_of_Children'],as_index=False).mean()\n",
    "round(child_charges_group,2)"
   ]
  },
  {
   "cell_type": "code",
   "execution_count": 110,
   "id": "40fbb659",
   "metadata": {},
   "outputs": [
    {
     "data": {
      "text/html": [
       "<div>\n",
       "<style scoped>\n",
       "    .dataframe tbody tr th:only-of-type {\n",
       "        vertical-align: middle;\n",
       "    }\n",
       "\n",
       "    .dataframe tbody tr th {\n",
       "        vertical-align: top;\n",
       "    }\n",
       "\n",
       "    .dataframe thead th {\n",
       "        text-align: right;\n",
       "    }\n",
       "</style>\n",
       "<table border=\"1\" class=\"dataframe\">\n",
       "  <thead>\n",
       "    <tr style=\"text-align: right;\">\n",
       "      <th></th>\n",
       "      <th>No_of_Children</th>\n",
       "      <th>Charges</th>\n",
       "    </tr>\n",
       "  </thead>\n",
       "  <tbody>\n",
       "    <tr>\n",
       "      <th>No_of_Children</th>\n",
       "      <td>1.000000</td>\n",
       "      <td>-0.340138</td>\n",
       "    </tr>\n",
       "    <tr>\n",
       "      <th>Charges</th>\n",
       "      <td>-0.340138</td>\n",
       "      <td>1.000000</td>\n",
       "    </tr>\n",
       "  </tbody>\n",
       "</table>\n",
       "</div>"
      ],
      "text/plain": [
       "                No_of_Children   Charges\n",
       "No_of_Children        1.000000 -0.340138\n",
       "Charges              -0.340138  1.000000"
      ]
     },
     "execution_count": 110,
     "metadata": {},
     "output_type": "execute_result"
    }
   ],
   "source": [
    "child_charges_group.corr()"
   ]
  },
  {
   "cell_type": "code",
   "execution_count": 111,
   "id": "0802f8e1",
   "metadata": {},
   "outputs": [
    {
     "data": {
      "text/plain": [
       "Text(0.5, 1.0, 'Avg Charges vs Number of Children')"
      ]
     },
     "execution_count": 111,
     "metadata": {},
     "output_type": "execute_result"
    },
    {
     "data": {
      "image/png": "[encoded data removed]",
      "text/plain": [
       "<Figure size 640x480 with 1 Axes>"
      ]
     },
     "metadata": {},
     "output_type": "display_data"
    }
   ],
   "source": [
    "sns.barplot(x='No_of_Children',y='Charges',data=child_charges_group, palette='viridis')\n",
    "plt.title('Avg Charges vs Number of Children')"
   ]
  },
  {
   "cell_type": "markdown",
   "id": "0af1c6d8",
   "metadata": {},
   "source": [
    "### No correlation can be established between the insurance charges paid and the number of children per parent, as people with no children are paying higher charges vs the ones with 5 children. People with 2-3 children are paying the highest. Hence, no correlation seen which is also confirmed by the correlation table."
   ]
  },
  {
   "cell_type": "markdown",
   "id": "3c0c0f09",
   "metadata": {},
   "source": [
    "# 5. How do medical charges vary across different regions?"
   ]
  },
  {
   "cell_type": "code",
   "execution_count": 112,
   "id": "2b7d4a92",
   "metadata": {},
   "outputs": [
    {
     "data": {
      "text/html": [
       "<div>\n",
       "<style scoped>\n",
       "    .dataframe tbody tr th:only-of-type {\n",
       "        vertical-align: middle;\n",
       "    }\n",
       "\n",
       "    .dataframe tbody tr th {\n",
       "        vertical-align: top;\n",
       "    }\n",
       "\n",
       "    .dataframe thead th {\n",
       "        text-align: right;\n",
       "    }\n",
       "</style>\n",
       "<table border=\"1\" class=\"dataframe\">\n",
       "  <thead>\n",
       "    <tr style=\"text-align: right;\">\n",
       "      <th></th>\n",
       "      <th>Region</th>\n",
       "      <th>Charges</th>\n",
       "      <th>Percentage</th>\n",
       "    </tr>\n",
       "  </thead>\n",
       "  <tbody>\n",
       "    <tr>\n",
       "      <th>0</th>\n",
       "      <td>1</td>\n",
       "      <td>12463.13</td>\n",
       "      <td>23.58</td>\n",
       "    </tr>\n",
       "    <tr>\n",
       "      <th>1</th>\n",
       "      <td>2</td>\n",
       "      <td>13475.87</td>\n",
       "      <td>25.50</td>\n",
       "    </tr>\n",
       "    <tr>\n",
       "      <th>2</th>\n",
       "      <td>3</td>\n",
       "      <td>12157.28</td>\n",
       "      <td>23.01</td>\n",
       "    </tr>\n",
       "    <tr>\n",
       "      <th>3</th>\n",
       "      <td>4</td>\n",
       "      <td>14748.78</td>\n",
       "      <td>27.91</td>\n",
       "    </tr>\n",
       "  </tbody>\n",
       "</table>\n",
       "</div>"
      ],
      "text/plain": [
       "   Region   Charges  Percentage\n",
       "0       1  12463.13       23.58\n",
       "1       2  13475.87       25.50\n",
       "2       3  12157.28       23.01\n",
       "3       4  14748.78       27.91"
      ]
     },
     "execution_count": 112,
     "metadata": {},
     "output_type": "execute_result"
    }
   ],
   "source": [
    "df_test3 = df[['Region','Charges']]\n",
    "avg_insurance_per_region = df_test3.groupby(['Region'],as_index=False).mean()\n",
    "avg_insurance_per_region['Percentage'] = 100*avg_insurance_per_region['Charges'] / avg_insurance_per_region['Charges'].sum()\n",
    "\n",
    "round(avg_insurance_per_region,2)"
   ]
  },
  {
   "cell_type": "code",
   "execution_count": 170,
   "id": "8f9e8a86",
   "metadata": {},
   "outputs": [
    {
     "data": {
      "text/plain": [
       "Text(0.5, 1.0, 'Percent Charges per Region')"
      ]
     },
     "execution_count": 170,
     "metadata": {},
     "output_type": "execute_result"
    },
    {
     "data": {
      "image/png": "[encoded data removed]",
      "text/plain": [
       "<Figure size 640x480 with 1 Axes>"
      ]
     },
     "metadata": {},
     "output_type": "display_data"
    }
   ],
   "source": [
    "avg_insurance_per_region['Region'] = ['Northeast','Northwest','Southeast','Southwest']\n",
    "plt.pie(x=avg_insurance_per_region['Percentage'],data=avg_insurance_per_region,labels=avg_insurance_per_region['Region'],autopct='%2.2f%%')\n",
    "plt.title('Percent Charges per Region')"
   ]
  },
  {
   "cell_type": "markdown",
   "id": "e06fb084",
   "metadata": {},
   "source": [
    "### Low variation of total charges can be seen among Northeast, Northwest and Souheast regions. However, Southwest has a slightly higher percent share of 27.91% in terms of insurance charges."
   ]
  },
  {
   "cell_type": "markdown",
   "id": "5ced7055",
   "metadata": {},
   "source": [
    "# 6. Do certain demographics have significantly different average charges?\n",
    "\n",
    "###     -- Different age groups of Smokers vs Non-Smokers"
   ]
  },
  {
   "cell_type": "code",
   "execution_count": 114,
   "id": "550f88f6",
   "metadata": {},
   "outputs": [],
   "source": [
    "df['Smoker_Status'] = df['Smoker'].replace({0:'Non-Smoker',1:'Smoker'})"
   ]
  },
  {
   "cell_type": "code",
   "execution_count": 115,
   "id": "1de9f6ef",
   "metadata": {},
   "outputs": [
    {
     "data": {
      "text/html": [
       "<div>\n",
       "<style scoped>\n",
       "    .dataframe tbody tr th:only-of-type {\n",
       "        vertical-align: middle;\n",
       "    }\n",
       "\n",
       "    .dataframe tbody tr th {\n",
       "        vertical-align: top;\n",
       "    }\n",
       "\n",
       "    .dataframe thead th {\n",
       "        text-align: right;\n",
       "    }\n",
       "</style>\n",
       "<table border=\"1\" class=\"dataframe\">\n",
       "  <thead>\n",
       "    <tr style=\"text-align: right;\">\n",
       "      <th></th>\n",
       "      <th>Age</th>\n",
       "      <th>Gender</th>\n",
       "      <th>BMI</th>\n",
       "      <th>No_of_Children</th>\n",
       "      <th>Smoker</th>\n",
       "      <th>Region</th>\n",
       "      <th>Charges</th>\n",
       "      <th>Age_Groups</th>\n",
       "      <th>Smoker_Status</th>\n",
       "    </tr>\n",
       "  </thead>\n",
       "  <tbody>\n",
       "    <tr>\n",
       "      <th>0</th>\n",
       "      <td>18</td>\n",
       "      <td>2</td>\n",
       "      <td>33.770</td>\n",
       "      <td>1</td>\n",
       "      <td>0</td>\n",
       "      <td>4</td>\n",
       "      <td>1725.55</td>\n",
       "      <td>15-25</td>\n",
       "      <td>Non-Smoker</td>\n",
       "    </tr>\n",
       "    <tr>\n",
       "      <th>1</th>\n",
       "      <td>28</td>\n",
       "      <td>2</td>\n",
       "      <td>33.000</td>\n",
       "      <td>3</td>\n",
       "      <td>0</td>\n",
       "      <td>4</td>\n",
       "      <td>4449.46</td>\n",
       "      <td>26-35</td>\n",
       "      <td>Non-Smoker</td>\n",
       "    </tr>\n",
       "    <tr>\n",
       "      <th>2</th>\n",
       "      <td>33</td>\n",
       "      <td>2</td>\n",
       "      <td>22.705</td>\n",
       "      <td>0</td>\n",
       "      <td>0</td>\n",
       "      <td>1</td>\n",
       "      <td>21984.47</td>\n",
       "      <td>26-35</td>\n",
       "      <td>Non-Smoker</td>\n",
       "    </tr>\n",
       "    <tr>\n",
       "      <th>3</th>\n",
       "      <td>32</td>\n",
       "      <td>2</td>\n",
       "      <td>28.880</td>\n",
       "      <td>0</td>\n",
       "      <td>0</td>\n",
       "      <td>1</td>\n",
       "      <td>3866.86</td>\n",
       "      <td>26-35</td>\n",
       "      <td>Non-Smoker</td>\n",
       "    </tr>\n",
       "    <tr>\n",
       "      <th>4</th>\n",
       "      <td>31</td>\n",
       "      <td>1</td>\n",
       "      <td>25.740</td>\n",
       "      <td>0</td>\n",
       "      <td>0</td>\n",
       "      <td>4</td>\n",
       "      <td>3756.62</td>\n",
       "      <td>26-35</td>\n",
       "      <td>Non-Smoker</td>\n",
       "    </tr>\n",
       "    <tr>\n",
       "      <th>...</th>\n",
       "      <td>...</td>\n",
       "      <td>...</td>\n",
       "      <td>...</td>\n",
       "      <td>...</td>\n",
       "      <td>...</td>\n",
       "      <td>...</td>\n",
       "      <td>...</td>\n",
       "      <td>...</td>\n",
       "      <td>...</td>\n",
       "    </tr>\n",
       "    <tr>\n",
       "      <th>2766</th>\n",
       "      <td>47</td>\n",
       "      <td>1</td>\n",
       "      <td>45.320</td>\n",
       "      <td>1</td>\n",
       "      <td>0</td>\n",
       "      <td>4</td>\n",
       "      <td>8569.86</td>\n",
       "      <td>46-55</td>\n",
       "      <td>Non-Smoker</td>\n",
       "    </tr>\n",
       "    <tr>\n",
       "      <th>2767</th>\n",
       "      <td>21</td>\n",
       "      <td>1</td>\n",
       "      <td>34.600</td>\n",
       "      <td>0</td>\n",
       "      <td>0</td>\n",
       "      <td>3</td>\n",
       "      <td>2020.18</td>\n",
       "      <td>15-25</td>\n",
       "      <td>Non-Smoker</td>\n",
       "    </tr>\n",
       "    <tr>\n",
       "      <th>2768</th>\n",
       "      <td>19</td>\n",
       "      <td>2</td>\n",
       "      <td>26.030</td>\n",
       "      <td>1</td>\n",
       "      <td>1</td>\n",
       "      <td>1</td>\n",
       "      <td>16450.89</td>\n",
       "      <td>15-25</td>\n",
       "      <td>Smoker</td>\n",
       "    </tr>\n",
       "    <tr>\n",
       "      <th>2769</th>\n",
       "      <td>23</td>\n",
       "      <td>2</td>\n",
       "      <td>18.715</td>\n",
       "      <td>0</td>\n",
       "      <td>0</td>\n",
       "      <td>1</td>\n",
       "      <td>21595.38</td>\n",
       "      <td>15-25</td>\n",
       "      <td>Non-Smoker</td>\n",
       "    </tr>\n",
       "    <tr>\n",
       "      <th>2770</th>\n",
       "      <td>54</td>\n",
       "      <td>2</td>\n",
       "      <td>31.600</td>\n",
       "      <td>0</td>\n",
       "      <td>0</td>\n",
       "      <td>3</td>\n",
       "      <td>9850.43</td>\n",
       "      <td>56-65</td>\n",
       "      <td>Non-Smoker</td>\n",
       "    </tr>\n",
       "  </tbody>\n",
       "</table>\n",
       "<p>2771 rows × 9 columns</p>\n",
       "</div>"
      ],
      "text/plain": [
       "      Age  Gender     BMI  No_of_Children  Smoker  Region   Charges  \\\n",
       "0      18       2  33.770               1       0       4   1725.55   \n",
       "1      28       2  33.000               3       0       4   4449.46   \n",
       "2      33       2  22.705               0       0       1  21984.47   \n",
       "3      32       2  28.880               0       0       1   3866.86   \n",
       "4      31       1  25.740               0       0       4   3756.62   \n",
       "...   ...     ...     ...             ...     ...     ...       ...   \n",
       "2766   47       1  45.320               1       0       4   8569.86   \n",
       "2767   21       1  34.600               0       0       3   2020.18   \n",
       "2768   19       2  26.030               1       1       1  16450.89   \n",
       "2769   23       2  18.715               0       0       1  21595.38   \n",
       "2770   54       2  31.600               0       0       3   9850.43   \n",
       "\n",
       "     Age_Groups Smoker_Status  \n",
       "0         15-25    Non-Smoker  \n",
       "1         26-35    Non-Smoker  \n",
       "2         26-35    Non-Smoker  \n",
       "3         26-35    Non-Smoker  \n",
       "4         26-35    Non-Smoker  \n",
       "...         ...           ...  \n",
       "2766      46-55    Non-Smoker  \n",
       "2767      15-25    Non-Smoker  \n",
       "2768      15-25        Smoker  \n",
       "2769      15-25    Non-Smoker  \n",
       "2770      56-65    Non-Smoker  \n",
       "\n",
       "[2771 rows x 9 columns]"
      ]
     },
     "execution_count": 115,
     "metadata": {},
     "output_type": "execute_result"
    }
   ],
   "source": [
    "df"
   ]
  },
  {
   "cell_type": "code",
   "execution_count": 116,
   "id": "2e96c484",
   "metadata": {},
   "outputs": [
    {
     "data": {
      "text/html": [
       "<div>\n",
       "<style scoped>\n",
       "    .dataframe tbody tr th:only-of-type {\n",
       "        vertical-align: middle;\n",
       "    }\n",
       "\n",
       "    .dataframe tbody tr th {\n",
       "        vertical-align: top;\n",
       "    }\n",
       "\n",
       "    .dataframe thead th {\n",
       "        text-align: right;\n",
       "    }\n",
       "</style>\n",
       "<table border=\"1\" class=\"dataframe\">\n",
       "  <thead>\n",
       "    <tr style=\"text-align: right;\">\n",
       "      <th></th>\n",
       "      <th>Age_Groups</th>\n",
       "      <th>Smoker_Status</th>\n",
       "      <th>Charges</th>\n",
       "    </tr>\n",
       "  </thead>\n",
       "  <tbody>\n",
       "    <tr>\n",
       "      <th>0</th>\n",
       "      <td>15-25</td>\n",
       "      <td>Non-Smoker</td>\n",
       "      <td>4074.49</td>\n",
       "    </tr>\n",
       "    <tr>\n",
       "      <th>1</th>\n",
       "      <td>15-25</td>\n",
       "      <td>Smoker</td>\n",
       "      <td>27959.18</td>\n",
       "    </tr>\n",
       "    <tr>\n",
       "      <th>2</th>\n",
       "      <td>26-35</td>\n",
       "      <td>Non-Smoker</td>\n",
       "      <td>5464.36</td>\n",
       "    </tr>\n",
       "    <tr>\n",
       "      <th>3</th>\n",
       "      <td>26-35</td>\n",
       "      <td>Smoker</td>\n",
       "      <td>28599.41</td>\n",
       "    </tr>\n",
       "    <tr>\n",
       "      <th>4</th>\n",
       "      <td>36-45</td>\n",
       "      <td>Non-Smoker</td>\n",
       "      <td>7142.04</td>\n",
       "    </tr>\n",
       "    <tr>\n",
       "      <th>5</th>\n",
       "      <td>36-45</td>\n",
       "      <td>Smoker</td>\n",
       "      <td>30931.07</td>\n",
       "    </tr>\n",
       "    <tr>\n",
       "      <th>6</th>\n",
       "      <td>46-55</td>\n",
       "      <td>Non-Smoker</td>\n",
       "      <td>9635.26</td>\n",
       "    </tr>\n",
       "    <tr>\n",
       "      <th>7</th>\n",
       "      <td>46-55</td>\n",
       "      <td>Smoker</td>\n",
       "      <td>33421.16</td>\n",
       "    </tr>\n",
       "    <tr>\n",
       "      <th>8</th>\n",
       "      <td>56-65</td>\n",
       "      <td>Non-Smoker</td>\n",
       "      <td>12114.68</td>\n",
       "    </tr>\n",
       "    <tr>\n",
       "      <th>9</th>\n",
       "      <td>56-65</td>\n",
       "      <td>Smoker</td>\n",
       "      <td>36455.22</td>\n",
       "    </tr>\n",
       "    <tr>\n",
       "      <th>10</th>\n",
       "      <td>66-75</td>\n",
       "      <td>Non-Smoker</td>\n",
       "      <td>14398.54</td>\n",
       "    </tr>\n",
       "    <tr>\n",
       "      <th>11</th>\n",
       "      <td>66-75</td>\n",
       "      <td>Smoker</td>\n",
       "      <td>40374.07</td>\n",
       "    </tr>\n",
       "  </tbody>\n",
       "</table>\n",
       "</div>"
      ],
      "text/plain": [
       "   Age_Groups Smoker_Status   Charges\n",
       "0       15-25    Non-Smoker   4074.49\n",
       "1       15-25        Smoker  27959.18\n",
       "2       26-35    Non-Smoker   5464.36\n",
       "3       26-35        Smoker  28599.41\n",
       "4       36-45    Non-Smoker   7142.04\n",
       "5       36-45        Smoker  30931.07\n",
       "6       46-55    Non-Smoker   9635.26\n",
       "7       46-55        Smoker  33421.16\n",
       "8       56-65    Non-Smoker  12114.68\n",
       "9       56-65        Smoker  36455.22\n",
       "10      66-75    Non-Smoker  14398.54\n",
       "11      66-75        Smoker  40374.07"
      ]
     },
     "execution_count": 116,
     "metadata": {},
     "output_type": "execute_result"
    }
   ],
   "source": [
    "df_test4 = df[['Age_Groups','Charges','Smoker_Status']]\n",
    "avg_insurance_ag_ss = df_test4.groupby(['Age_Groups','Smoker_Status'],as_index=False).mean()\n",
    "round(avg_insurance_ag_ss,2)"
   ]
  },
  {
   "cell_type": "code",
   "execution_count": 117,
   "id": "ba1d67b8",
   "metadata": {},
   "outputs": [
    {
     "data": {
      "text/plain": [
       "Text(0.5, 1.0, 'Charges Paid by Different Age Groups by Smoker Status')"
      ]
     },
     "execution_count": 117,
     "metadata": {},
     "output_type": "execute_result"
    },
    {
     "data": {
      "image/png": "[encoded data removed]",
      "text/plain": [
       "<Figure size 640x480 with 1 Axes>"
      ]
     },
     "metadata": {},
     "output_type": "display_data"
    }
   ],
   "source": [
    "sns.barplot(x=avg_insurance_ag_ss['Age_Groups'],y=avg_insurance_ag_ss['Charges'],hue=avg_insurance_ag_ss['Smoker_Status'],\n",
    "           data=avg_insurance_ag_ss, palette='viridis')\n",
    "plt.title('Charges Paid by Different Age Groups by Smoker Status')"
   ]
  },
  {
   "cell_type": "markdown",
   "id": "621f43cd",
   "metadata": {},
   "source": [
    "### The graph shows Old aged smokers paying a premium on the insurance compared to non-smokers."
   ]
  },
  {
   "cell_type": "code",
   "execution_count": null,
   "id": "5e7dda47",
   "metadata": {},
   "outputs": [],
   "source": []
  },
  {
   "cell_type": "markdown",
   "id": "95dcfdae",
   "metadata": {},
   "source": [
    "###     -- Male Smokers vs. Female Smokers"
   ]
  },
  {
   "cell_type": "code",
   "execution_count": 118,
   "id": "b50f3cdb",
   "metadata": {},
   "outputs": [
    {
     "data": {
      "text/html": [
       "<div>\n",
       "<style scoped>\n",
       "    .dataframe tbody tr th:only-of-type {\n",
       "        vertical-align: middle;\n",
       "    }\n",
       "\n",
       "    .dataframe tbody tr th {\n",
       "        vertical-align: top;\n",
       "    }\n",
       "\n",
       "    .dataframe thead th {\n",
       "        text-align: right;\n",
       "    }\n",
       "</style>\n",
       "<table border=\"1\" class=\"dataframe\">\n",
       "  <thead>\n",
       "    <tr style=\"text-align: right;\">\n",
       "      <th></th>\n",
       "      <th>Age</th>\n",
       "      <th>Gender</th>\n",
       "      <th>BMI</th>\n",
       "      <th>No_of_Children</th>\n",
       "      <th>Smoker</th>\n",
       "      <th>Region</th>\n",
       "      <th>Charges</th>\n",
       "      <th>Age_Groups</th>\n",
       "      <th>Smoker_Status</th>\n",
       "      <th>Gender_Status</th>\n",
       "    </tr>\n",
       "  </thead>\n",
       "  <tbody>\n",
       "    <tr>\n",
       "      <th>0</th>\n",
       "      <td>18</td>\n",
       "      <td>2</td>\n",
       "      <td>33.770</td>\n",
       "      <td>1</td>\n",
       "      <td>0</td>\n",
       "      <td>4</td>\n",
       "      <td>1725.55</td>\n",
       "      <td>15-25</td>\n",
       "      <td>Non-Smoker</td>\n",
       "      <td>Male</td>\n",
       "    </tr>\n",
       "    <tr>\n",
       "      <th>1</th>\n",
       "      <td>28</td>\n",
       "      <td>2</td>\n",
       "      <td>33.000</td>\n",
       "      <td>3</td>\n",
       "      <td>0</td>\n",
       "      <td>4</td>\n",
       "      <td>4449.46</td>\n",
       "      <td>26-35</td>\n",
       "      <td>Non-Smoker</td>\n",
       "      <td>Male</td>\n",
       "    </tr>\n",
       "    <tr>\n",
       "      <th>2</th>\n",
       "      <td>33</td>\n",
       "      <td>2</td>\n",
       "      <td>22.705</td>\n",
       "      <td>0</td>\n",
       "      <td>0</td>\n",
       "      <td>1</td>\n",
       "      <td>21984.47</td>\n",
       "      <td>26-35</td>\n",
       "      <td>Non-Smoker</td>\n",
       "      <td>Male</td>\n",
       "    </tr>\n",
       "    <tr>\n",
       "      <th>3</th>\n",
       "      <td>32</td>\n",
       "      <td>2</td>\n",
       "      <td>28.880</td>\n",
       "      <td>0</td>\n",
       "      <td>0</td>\n",
       "      <td>1</td>\n",
       "      <td>3866.86</td>\n",
       "      <td>26-35</td>\n",
       "      <td>Non-Smoker</td>\n",
       "      <td>Male</td>\n",
       "    </tr>\n",
       "    <tr>\n",
       "      <th>4</th>\n",
       "      <td>31</td>\n",
       "      <td>1</td>\n",
       "      <td>25.740</td>\n",
       "      <td>0</td>\n",
       "      <td>0</td>\n",
       "      <td>4</td>\n",
       "      <td>3756.62</td>\n",
       "      <td>26-35</td>\n",
       "      <td>Non-Smoker</td>\n",
       "      <td>Female</td>\n",
       "    </tr>\n",
       "    <tr>\n",
       "      <th>...</th>\n",
       "      <td>...</td>\n",
       "      <td>...</td>\n",
       "      <td>...</td>\n",
       "      <td>...</td>\n",
       "      <td>...</td>\n",
       "      <td>...</td>\n",
       "      <td>...</td>\n",
       "      <td>...</td>\n",
       "      <td>...</td>\n",
       "      <td>...</td>\n",
       "    </tr>\n",
       "    <tr>\n",
       "      <th>2766</th>\n",
       "      <td>47</td>\n",
       "      <td>1</td>\n",
       "      <td>45.320</td>\n",
       "      <td>1</td>\n",
       "      <td>0</td>\n",
       "      <td>4</td>\n",
       "      <td>8569.86</td>\n",
       "      <td>46-55</td>\n",
       "      <td>Non-Smoker</td>\n",
       "      <td>Female</td>\n",
       "    </tr>\n",
       "    <tr>\n",
       "      <th>2767</th>\n",
       "      <td>21</td>\n",
       "      <td>1</td>\n",
       "      <td>34.600</td>\n",
       "      <td>0</td>\n",
       "      <td>0</td>\n",
       "      <td>3</td>\n",
       "      <td>2020.18</td>\n",
       "      <td>15-25</td>\n",
       "      <td>Non-Smoker</td>\n",
       "      <td>Female</td>\n",
       "    </tr>\n",
       "    <tr>\n",
       "      <th>2768</th>\n",
       "      <td>19</td>\n",
       "      <td>2</td>\n",
       "      <td>26.030</td>\n",
       "      <td>1</td>\n",
       "      <td>1</td>\n",
       "      <td>1</td>\n",
       "      <td>16450.89</td>\n",
       "      <td>15-25</td>\n",
       "      <td>Smoker</td>\n",
       "      <td>Male</td>\n",
       "    </tr>\n",
       "    <tr>\n",
       "      <th>2769</th>\n",
       "      <td>23</td>\n",
       "      <td>2</td>\n",
       "      <td>18.715</td>\n",
       "      <td>0</td>\n",
       "      <td>0</td>\n",
       "      <td>1</td>\n",
       "      <td>21595.38</td>\n",
       "      <td>15-25</td>\n",
       "      <td>Non-Smoker</td>\n",
       "      <td>Male</td>\n",
       "    </tr>\n",
       "    <tr>\n",
       "      <th>2770</th>\n",
       "      <td>54</td>\n",
       "      <td>2</td>\n",
       "      <td>31.600</td>\n",
       "      <td>0</td>\n",
       "      <td>0</td>\n",
       "      <td>3</td>\n",
       "      <td>9850.43</td>\n",
       "      <td>56-65</td>\n",
       "      <td>Non-Smoker</td>\n",
       "      <td>Male</td>\n",
       "    </tr>\n",
       "  </tbody>\n",
       "</table>\n",
       "<p>2771 rows × 10 columns</p>\n",
       "</div>"
      ],
      "text/plain": [
       "      Age  Gender     BMI  No_of_Children  Smoker  Region   Charges  \\\n",
       "0      18       2  33.770               1       0       4   1725.55   \n",
       "1      28       2  33.000               3       0       4   4449.46   \n",
       "2      33       2  22.705               0       0       1  21984.47   \n",
       "3      32       2  28.880               0       0       1   3866.86   \n",
       "4      31       1  25.740               0       0       4   3756.62   \n",
       "...   ...     ...     ...             ...     ...     ...       ...   \n",
       "2766   47       1  45.320               1       0       4   8569.86   \n",
       "2767   21       1  34.600               0       0       3   2020.18   \n",
       "2768   19       2  26.030               1       1       1  16450.89   \n",
       "2769   23       2  18.715               0       0       1  21595.38   \n",
       "2770   54       2  31.600               0       0       3   9850.43   \n",
       "\n",
       "     Age_Groups Smoker_Status Gender_Status  \n",
       "0         15-25    Non-Smoker          Male  \n",
       "1         26-35    Non-Smoker          Male  \n",
       "2         26-35    Non-Smoker          Male  \n",
       "3         26-35    Non-Smoker          Male  \n",
       "4         26-35    Non-Smoker        Female  \n",
       "...         ...           ...           ...  \n",
       "2766      46-55    Non-Smoker        Female  \n",
       "2767      15-25    Non-Smoker        Female  \n",
       "2768      15-25        Smoker          Male  \n",
       "2769      15-25    Non-Smoker          Male  \n",
       "2770      56-65    Non-Smoker          Male  \n",
       "\n",
       "[2771 rows x 10 columns]"
      ]
     },
     "execution_count": 118,
     "metadata": {},
     "output_type": "execute_result"
    }
   ],
   "source": [
    "df['Gender_Status'] = df['Gender'].replace({1:'Female',2:'Male'})\n",
    "df"
   ]
  },
  {
   "cell_type": "code",
   "execution_count": 119,
   "id": "e0eb21cc",
   "metadata": {},
   "outputs": [
    {
     "data": {
      "text/plain": [
       "Text(0.5, 1.0, 'Insurance Charges for Male vs. Female Smokers')"
      ]
     },
     "execution_count": 119,
     "metadata": {},
     "output_type": "execute_result"
    },
    {
     "data": {
      "image/png": "[encoded data removed]",
      "text/plain": [
       "<Figure size 640x480 with 1 Axes>"
      ]
     },
     "metadata": {},
     "output_type": "display_data"
    }
   ],
   "source": [
    "sns.boxplot(x='Gender_Status',y='Charges',data=df,hue='Smoker_Status',palette='viridis')\n",
    "plt.title('Insurance Charges for Male vs. Female Smokers')"
   ]
  },
  {
   "cell_type": "markdown",
   "id": "d9372c42",
   "metadata": {},
   "source": [
    "### Non Smoker males and females pay almost equal insurance, however, average charges paid by male smokers are higher than that of female smokers."
   ]
  },
  {
   "cell_type": "code",
   "execution_count": null,
   "id": "3f6b9746",
   "metadata": {},
   "outputs": [],
   "source": []
  },
  {
   "cell_type": "markdown",
   "id": "41ed3d14",
   "metadata": {},
   "source": [
    "### -- BMI dependent Charges by Smoker Status"
   ]
  },
  {
   "cell_type": "code",
   "execution_count": 165,
   "id": "fe75a557",
   "metadata": {},
   "outputs": [],
   "source": [
    "BMI_labels = ['15-25','26-35','36-45','46-55','56-65']\n",
    "BMI_bins = np.linspace(min(df['BMI']),max(df['BMI']),6)\n",
    "df['BMI_Groups'] = pd.cut(df['BMI'],bins=BMI_bins,labels=BMI_labels,include_lowest=True)"
   ]
  },
  {
   "cell_type": "code",
   "execution_count": 168,
   "id": "84c4f552",
   "metadata": {},
   "outputs": [
    {
     "data": {
      "text/plain": [
       "Text(0.5, 1.0, 'BMI Dependent Charges by Smoker Status')"
      ]
     },
     "execution_count": 168,
     "metadata": {},
     "output_type": "execute_result"
    },
    {
     "data": {
      "image/png": "[encoded data removed]",
      "text/plain": [
       "<Figure size 640x480 with 1 Axes>"
      ]
     },
     "metadata": {},
     "output_type": "display_data"
    }
   ],
   "source": [
    "sns.boxplot(x='BMI_Groups',y='Charges',data=df,hue='Smoker_Status',palette='viridis')\n",
    "plt.title('BMI Dependent Charges by Smoker Status')"
   ]
  },
  {
   "cell_type": "markdown",
   "id": "7cd8b849",
   "metadata": {},
   "source": [
    "### Non smokers across the BMI groups pay similar insurance, but high variation can be seen among the smokers from which, smokers with BMI from 36 to 65 pay the highest insurance on an average."
   ]
  },
  {
   "cell_type": "code",
   "execution_count": null,
   "id": "52d81e40",
   "metadata": {},
   "outputs": [],
   "source": []
  },
  {
   "cell_type": "markdown",
   "id": "ebe28846",
   "metadata": {},
   "source": [
    "# Analysis:\n",
    "\n",
    "### In-depth analysis suggests that older males especially 55 years and above who are smokers and have BMI ranging from 36 to 65 end up paying higher insurance charge on an average compared to females.\n",
    "\n",
    "### A considerable difference of the insurance charge is seen between smokers and non-smokers in both males and females.\n",
    "\n",
    "### As a conclusion, we can say that smoking status increases the insurance charge by many folds. This is also confirmed in our Part-1 analysis as we could see a strong positive correlation between smoking status and insurance charges compared to other variables. \n",
    "\n",
    "### No significant relation was discovered between the insurance charges, people having number of children and regions."
   ]
  }
 ],
 "metadata": {
  "kernelspec": {
   "display_name": "Python 3 (ipykernel)",
   "language": "python",
   "name": "python3"
  },
  "language_info": {
   "codemirror_mode": {
    "name": "ipython",
    "version": 3
   },
   "file_extension": ".py",
   "mimetype": "text/x-python",
   "name": "python",
   "nbconvert_exporter": "python",
   "pygments_lexer": "ipython3",
   "version": "3.11.5"
  }
 },
 "nbformat": 4,
 "nbformat_minor": 5
}
